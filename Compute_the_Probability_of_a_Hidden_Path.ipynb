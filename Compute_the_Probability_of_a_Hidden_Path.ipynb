{
 "cells": [
  {
   "cell_type": "code",
   "execution_count": 4,
   "metadata": {},
   "outputs": [],
   "source": [
    "import numpy as np\n",
    "import pandas as pd"
   ]
  },
  {
   "cell_type": "code",
   "execution_count": 5,
   "metadata": {},
   "outputs": [],
   "source": [
    "def Prob(pi, trans):\n",
    "    prob = 0.5\n",
    "    for i in range(len(pi)-1):\n",
    "        prob *= trans.loc[pi[i], pi[i+1]]\n",
    "    return prob"
   ]
  },
  {
   "cell_type": "code",
   "execution_count": 6,
   "metadata": {},
   "outputs": [
    {
     "name": "stdout",
     "output_type": "stream",
     "text": [
      "1.2715329659638191e-19\n"
     ]
    }
   ],
   "source": [
    "with open(\"/Users/shayanaryania/Desktop/University/Rosalind/Compute_the_Probability_of_a_Hidden_Path/rosalind_ba10a.txt\", \"r\") as file:\n",
    "    Pi = file.readline().strip()\n",
    "    file.readline() \n",
    "    States = file.readline().strip().split()\n",
    "    Trans = pd.DataFrame(np.full((len(States), len(States)), 0), index=States, columns=States)\n",
    "    file.readline() \n",
    "    States_col = file.readline().strip().split()\n",
    "\n",
    "    for line in file:\n",
    "        l = line.strip().split()\n",
    "        for i in range(1, len(l)):\n",
    "            Trans.loc[l[0], States_col[i-1]] = float(l[i])\n",
    "            \n",
    "p = Prob(Pi, Trans)\n",
    "print(p)"
   ]
  },
  {
   "cell_type": "code",
   "execution_count": null,
   "metadata": {},
   "outputs": [],
   "source": []
  }
 ],
 "metadata": {
  "kernelspec": {
   "display_name": "Python 3",
   "language": "python",
   "name": "python3"
  },
  "language_info": {
   "codemirror_mode": {
    "name": "ipython",
    "version": 3
   },
   "file_extension": ".py",
   "mimetype": "text/x-python",
   "name": "python",
   "nbconvert_exporter": "python",
   "pygments_lexer": "ipython3",
   "version": "3.11.4"
  }
 },
 "nbformat": 4,
 "nbformat_minor": 2
}
